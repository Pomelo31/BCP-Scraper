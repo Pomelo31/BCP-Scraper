{
  "cells": [
    {
      "cell_type": "markdown",
      "metadata": {},
      "source": [
        "# Descargar boletines del BCP\n",
        "\n",
        "Notebook para ejecutar el flujo completo desde el entorno virtual `albertito`.\n"
      ]
    },
    {
      "cell_type": "markdown",
      "metadata": {},
      "source": [
        "## 1. Validar entorno virtual\n"
      ]
    },
    {
      "cell_type": "code",
      "execution_count": 1,
      "id": "d354b618",
      "metadata": {},
      "outputs": [
        {
          "name": "stdout",
          "output_type": "stream",
          "text": [
            "Venv encontrado en: D:\\Personal\\Vibe_Coding\\albertito\n"
          ]
        }
      ],
      "source": [
        "from pathlib import Path\n",
        "venv_path = Path('albertito')\n",
        "if not venv_path.exists():\n",
        "    raise RuntimeError('No se encontro el venv \\'albertito\\'. Crea uno con python -m venv albertito')\n",
        "else:\n",
        "    print('Venv encontrado en:', venv_path.resolve())\n"
      ]
    },
    {
      "cell_type": "markdown",
      "id": "81789624",
      "metadata": {},
      "source": [
        "## 2. Instalar o actualizar dependencias dentro del venv\n"
      ]
    },
    {
      "cell_type": "code",
      "execution_count": 2,
      "id": "b11783f7",
      "metadata": {},
      "outputs": [
        {
          "name": "stdout",
          "output_type": "stream",
          "text": [
            "Ejecutando: albertito\\Scripts\\python.exe -m pip install -r requirements.txt\n"
          ]
        },
        {
          "data": {
            "text/plain": [
              "CompletedProcess(args=['albertito\\\\Scripts\\\\python.exe', '-m', 'pip', 'install', '-r', 'requirements.txt'], returncode=0)"
            ]
          },
          "execution_count": 2,
          "metadata": {},
          "output_type": "execute_result"
        }
      ],
      "source": [
        "import subprocess\n",
        "from pathlib import Path\n",
        "python_bin = Path('albertito') / 'Scripts' / 'python.exe'\n",
        "cmd = [str(python_bin), '-m', 'pip', 'install', '-r', 'requirements.txt']\n",
        "print('Ejecutando:', ' '.join(cmd))\n",
        "subprocess.run(cmd, check=True)\n"
      ]
    },
    {
      "cell_type": "markdown",
      "id": "8e339890",
      "metadata": {},
      "source": [
        "## 3. Ejecutar el downloader\n"
      ]
    },
    {
      "cell_type": "code",
      "execution_count": 7,
      "id": "0df4094f",
      "metadata": {},
      "outputs": [
        {
          "name": "stdout",
          "output_type": "stream",
          "text": [
            "Ejecutando: albertito\\Scripts\\python.exe bcp_downloader.py\n"
          ]
        },
        {
          "data": {
            "text/plain": [
              "CompletedProcess(args=['albertito\\\\Scripts\\\\python.exe', 'bcp_downloader.py'], returncode=0)"
            ]
          },
          "execution_count": 7,
          "metadata": {},
          "output_type": "execute_result"
        }
      ],
      "source": [
        "import subprocess\n",
        "from pathlib import Path\n",
        "python_bin = Path('albertito') / 'Scripts' / 'python.exe'\n",
        "cmd = [str(python_bin), 'bcp_downloader.py']\n",
        "print('Ejecutando:', ' '.join(cmd))\n",
        "subprocess.run(cmd, check=True)\n"
      ]
    },
    {
      "cell_type": "markdown",
      "id": "2cd7e8c0",
      "metadata": {},
      "source": [
        "## 4. Revisar archivos generados\n"
      ]
    },
    {
      "cell_type": "code",
      "execution_count": 4,
      "id": "f398bbac",
      "metadata": {},
      "outputs": [
        {
          "name": "stdout",
          "output_type": "stream",
          "text": [
            "CSBI.csv - 88,084,259 bytes\n",
            "CSFI.csv - 88,081,613 bytes\n",
            "ERBI.csv - 67,212,713 bytes\n",
            "ERFI.csv - 67,109,345 bytes\n",
            "tabla_de_bancos.xlsx - 32,715,301 bytes\n",
            "tabla_de_financieras.xlsx - 24,361,486 bytes\n",
            "TCBI.csv - 18,874,794 bytes\n",
            "TCFI.csv - 20,971,690 bytes\n"
          ]
        }
      ],
      "source": [
        "from pathlib import Path\n",
        "result_dir = Path('descargas')\n",
        "if not result_dir.exists():\n",
        "    print('No existe el directorio descargas')\n",
        "else:\n",
        "    for path in sorted(result_dir.glob('*')):\n",
        "        size = path.stat().st_size\n",
        "        print(f'{path.name} - {size:,} bytes')\n"
      ]
    },
    {
      "cell_type": "markdown",
      "id": "8cd340bb",
      "metadata": {},
      "source": [
        "## 5. Importar CSVs a DuckDB (staging)\n"
      ]
    },
    {
      "cell_type": "code",
      "execution_count": 2,
      "id": "adcc8809",
      "metadata": {},
      "outputs": [
        {
          "name": "stdout",
          "output_type": "stream",
          "text": [
            "Tablas staging disponibles:\n"
          ]
        },
        {
          "data": {
            "text/html": [
              "<div>\n",
              "<style scoped>\n",
              "    .dataframe tbody tr th:only-of-type {\n",
              "        vertical-align: middle;\n",
              "    }\n",
              "\n",
              "    .dataframe tbody tr th {\n",
              "        vertical-align: top;\n",
              "    }\n",
              "\n",
              "    .dataframe thead th {\n",
              "        text-align: right;\n",
              "    }\n",
              "</style>\n",
              "<table border=\"1\" class=\"dataframe\">\n",
              "  <thead>\n",
              "    <tr style=\"text-align: right;\">\n",
              "      <th></th>\n",
              "      <th>table_name</th>\n",
              "    </tr>\n",
              "  </thead>\n",
              "  <tbody>\n",
              "    <tr>\n",
              "      <th>0</th>\n",
              "      <td>em_tmp_bcp_csbi</td>\n",
              "    </tr>\n",
              "    <tr>\n",
              "      <th>1</th>\n",
              "      <td>em_tmp_bcp_csfi</td>\n",
              "    </tr>\n",
              "    <tr>\n",
              "      <th>2</th>\n",
              "      <td>em_tmp_bcp_erbi</td>\n",
              "    </tr>\n",
              "    <tr>\n",
              "      <th>3</th>\n",
              "      <td>em_tmp_bcp_erfi</td>\n",
              "    </tr>\n",
              "    <tr>\n",
              "      <th>4</th>\n",
              "      <td>em_tmp_bcp_tcbi</td>\n",
              "    </tr>\n",
              "    <tr>\n",
              "      <th>5</th>\n",
              "      <td>em_tmp_bcp_tcfi</td>\n",
              "    </tr>\n",
              "  </tbody>\n",
              "</table>\n",
              "</div>"
            ],
            "text/plain": [
              "        table_name\n",
              "0  em_tmp_bcp_csbi\n",
              "1  em_tmp_bcp_csfi\n",
              "2  em_tmp_bcp_erbi\n",
              "3  em_tmp_bcp_erfi\n",
              "4  em_tmp_bcp_tcbi\n",
              "5  em_tmp_bcp_tcfi"
            ]
          },
          "metadata": {},
          "output_type": "display_data"
        }
      ],
      "source": [
        "\n",
        "import unicodedata\n",
        "from pathlib import Path\n",
        "import duckdb\n",
        "import pandas as pd\n",
        "\n",
        "DB_PATH = Path('data/mi_base.duckdb')\n",
        "CSV_DIR = Path('descargas')\n",
        "CSV_DIR.mkdir(exist_ok=True)\n",
        "\n",
        "conn = duckdb.connect(str(DB_PATH))\n",
        "\n",
        "def normalize_columns(df):\n",
        "    rename = {}\n",
        "    for col in df.columns:\n",
        "        base = ''.join(c for c in unicodedata.normalize('NFKD', str(col)) if not unicodedata.combining(c))\n",
        "        base = base.strip().lower().replace(' ', '_').replace('__', '_')\n",
        "        rename[col] = base\n",
        "    return df.rename(columns=rename)\n",
        "\n",
        "CSV_FILES = {\n",
        "    'em_tmp_bcp_csbi': 'CSBI.csv',\n",
        "    'em_tmp_bcp_csfi': 'CSFI.csv',\n",
        "    'em_tmp_bcp_tcbi': 'TCBI.csv',\n",
        "    'em_tmp_bcp_tcfi': 'TCFI.csv',\n",
        "    'em_tmp_bcp_erbi': 'ERBI.csv',\n",
        "    'em_tmp_bcp_erfi': 'ERFI.csv',\n",
        "}\n",
        "\n",
        "for table, filename in CSV_FILES.items():\n",
        "    csv_path = CSV_DIR / filename\n",
        "    if not csv_path.exists():\n",
        "        raise FileNotFoundError(f'No se encontro el archivo {csv_path}')\n",
        "    df = normalize_columns(pd.read_csv(csv_path))\n",
        "    if 'fecha' in df.columns:\n",
        "        df['fecha'] = pd.to_datetime(df['fecha'])\n",
        "    for col in ['codigo_entidad', 'codigo_moneda']:\n",
        "        if col in df.columns:\n",
        "            df[col] = pd.to_numeric(df[col], errors='coerce').astype('Int64')\n",
        "    for col in ['cartera_vencida', 'cartera_vigente', 'total', 'importe']:\n",
        "        if col in df.columns:\n",
        "            df[col] = pd.to_numeric(df[col], errors='coerce')\n",
        "    temp_name = f'tmp_{table}'\n",
        "    conn.register(temp_name, df)\n",
        "    conn.execute(f\"CREATE OR REPLACE TABLE {table} AS SELECT * FROM {temp_name}\")\n",
        "    conn.unregister(temp_name)\n",
        "\n",
        "print('Tablas staging disponibles:')\n",
        "display(conn.execute(\"SELECT table_name FROM information_schema.tables WHERE table_schema='main' AND table_name LIKE 'em_tmp_bcp_%' ORDER BY table_name\").df())\n",
        "\n"
      ]
    },
    {
      "cell_type": "markdown",
      "id": "42d80694",
      "metadata": {},
      "source": [
        "## 6. Transformaciones SQL (equivalente stored procedures)\n"
      ]
    },
    {
      "cell_type": "code",
      "execution_count": 1,
      "metadata": {},
      "outputs": [
        {
          "ename": "NameError",
          "evalue": "name 'conn' is not defined",
          "output_type": "error",
          "traceback": [
            "\u001b[31m---------------------------------------------------------------------------\u001b[39m",
            "\u001b[31mNameError\u001b[39m                                 Traceback (most recent call last)",
            "\u001b[36mCell\u001b[39m\u001b[36m \u001b[39m\u001b[32mIn[1]\u001b[39m\u001b[32m, line 33\u001b[39m\n\u001b[32m     30\u001b[39m name_case_lines = [\u001b[33mf\u001b[39m\u001b[33m\"\u001b[39m\u001b[33m    WHEN codigo_entidad = \u001b[39m\u001b[38;5;132;01m{\u001b[39;00mcode\u001b[38;5;132;01m}\u001b[39;00m\u001b[33m THEN \u001b[39m\u001b[33m'\u001b[39m\u001b[38;5;132;01m{\u001b[39;00mname\u001b[38;5;132;01m}\u001b[39;00m\u001b[33m'\u001b[39m\u001b[33m\"\u001b[39m \u001b[38;5;28;01mfor\u001b[39;00m code, name \u001b[38;5;129;01min\u001b[39;00m ENTITY_NAMES.items()]\n\u001b[32m     31\u001b[39m entity_name_case = \u001b[33m\"\u001b[39m\u001b[33mCASE\u001b[39m\u001b[38;5;130;01m\\n\u001b[39;00m\u001b[33m\"\u001b[39m + \u001b[33m\"\u001b[39m\u001b[38;5;130;01m\\n\u001b[39;00m\u001b[33m\"\u001b[39m.join(name_case_lines) + \u001b[33m\"\u001b[39m\u001b[38;5;130;01m\\n\u001b[39;00m\u001b[33m    ELSE \u001b[39m\u001b[33m'\u001b[39m\u001b[33mERROR\u001b[39m\u001b[33m'\u001b[39m\u001b[38;5;130;01m\\n\u001b[39;00m\u001b[33mEND\u001b[39m\u001b[33m\"\u001b[39m\n\u001b[32m---> \u001b[39m\u001b[32m33\u001b[39m \u001b[43mconn\u001b[49m.execute(\u001b[33m\"\u001b[39m\u001b[33mCREATE OR REPLACE TABLE em_tmp_bcp_csi AS SELECT * FROM em_tmp_bcp_csbi UNION ALL SELECT * FROM em_tmp_bcp_csfi\u001b[39m\u001b[33m\"\u001b[39m)\n\u001b[32m     34\u001b[39m conn.execute(\u001b[33mf\u001b[39m\u001b[33m\"\u001b[39m\u001b[33mCREATE OR REPLACE TABLE em_tmp_bcp_csr AS SELECT fecha, \u001b[39m\u001b[38;5;132;01m{\u001b[39;00mentity_case\u001b[38;5;132;01m}\u001b[39;00m\u001b[33m AS codigo_entidad, actividad_destino_vs2, cartera_vencida, cartera_vigente FROM em_tmp_bcp_csi\u001b[39m\u001b[33m\"\u001b[39m)\n\u001b[32m     35\u001b[39m conn.execute(\u001b[33m\"\u001b[39m\u001b[33mCREATE OR REPLACE TABLE em_tmp_bcp_csc AS SELECT fecha, codigo_entidad, actividad_destino_vs2, COALESCE(SUM(cartera_vigente),0) AS cartera_vigente, COALESCE(SUM(cartera_vencida),0) AS cartera_vencida FROM em_tmp_bcp_csr GROUP BY 1,2,3 ORDER BY 1,2,3\u001b[39m\u001b[33m\"\u001b[39m)\n",
            "\u001b[31mNameError\u001b[39m: name 'conn' is not defined"
          ]
        }
      ],
      "source": [
        "ENTITY_REMAP = {1039: 1046, 2007: 1046, 1041: 1042, 1028: 1008, 1007: 1004, 2036: 1047, 2077: 1020, 1040: 1020, 2081: 1045}\n",
        "ENTITY_NAMES = {\n",
        "    1046: 'UENO',\n",
        "    1047: 'ZETA',\n",
        "    1045: 'SOLAR',\n",
        "    1042: 'ATLAS/FAMILIAR',\n",
        "    1043: 'BANCOP',\n",
        "    1030: 'BASA',\n",
        "    1003: 'BNA',\n",
        "    1002: 'BNF',\n",
        "    1006: 'CITIBANK',\n",
        "    1020: 'CONTINENTAL/RIO',\n",
        "    1005: 'DO BRASIL',\n",
        "    1004: 'GNB',\n",
        "    1044: 'INTERFISA',\n",
        "    1017: 'ITAU',\n",
        "    1008: 'SUDAMERIS',\n",
        "    2037: 'CEFISA',\n",
        "    2080: 'FIC',\n",
        "    2071: 'FINLATINA',\n",
        "    2013: 'FPJ',\n",
        "    2078: 'TU FINANCIERA'\n",
        "}\n",
        "\n",
        "def build_case(field, mapping):\n",
        "    lines = [f\"    WHEN {field} = {orig} THEN {dest}\" for orig, dest in mapping.items()]\n",
        "    return \"CASE\\n\" + \"\\n\".join(lines) + f\"\\n    ELSE {field}\\nEND\"\n",
        "\n",
        "entity_case = build_case('codigo_entidad', ENTITY_REMAP)\n",
        "name_case_lines = [f\"    WHEN codigo_entidad = {code} THEN '{name}'\" for code, name in ENTITY_NAMES.items()]\n",
        "entity_name_case = \"CASE\\n\" + \"\\n\".join(name_case_lines) + \"\\n    ELSE 'ERROR'\\nEND\"\n",
        "\n",
        "conn.execute(\"CREATE OR REPLACE TABLE em_tmp_bcp_csi AS SELECT * FROM em_tmp_bcp_csbi UNION ALL SELECT * FROM em_tmp_bcp_csfi\")\n",
        "conn.execute(f\"CREATE OR REPLACE TABLE em_tmp_bcp_csr AS SELECT fecha, {entity_case} AS codigo_entidad, actividad_destino_vs2, cartera_vencida, cartera_vigente FROM em_tmp_bcp_csi\")\n",
        "conn.execute(\"CREATE OR REPLACE TABLE em_tmp_bcp_csc AS SELECT fecha, codigo_entidad, actividad_destino_vs2, COALESCE(SUM(cartera_vigente),0) AS cartera_vigente, COALESCE(SUM(cartera_vencida),0) AS cartera_vencida FROM em_tmp_bcp_csr GROUP BY 1,2,3 ORDER BY 1,2,3\")\n",
        "conn.execute(f\"CREATE OR REPLACE TABLE em_bcp_credito_sector AS SELECT fecha, {entity_name_case} AS entidad, actividad_destino_vs2 AS actividad, cartera_vigente, cartera_vencida, cartera_vigente + cartera_vencida AS cartera_total FROM em_tmp_bcp_csc ORDER BY fecha, codigo_entidad, actividad_destino_vs2\")\n",
        "\n",
        "conn.execute(\"CREATE OR REPLACE TABLE em_tmp_bcp_tci AS SELECT * FROM em_tmp_bcp_tcbi UNION ALL SELECT * FROM em_tmp_bcp_tcfi\")\n",
        "conn.execute(f\"CREATE OR REPLACE TABLE em_tmp_bcp_tcr AS SELECT fecha, {entity_case} AS codigo_entidad, clasificacion, total FROM em_tmp_bcp_tci\")\n",
        "conn.execute(\"CREATE OR REPLACE TABLE em_tmp_bcp_tcc AS SELECT fecha, codigo_entidad, clasificacion, COALESCE(SUM(total),0) AS total FROM em_tmp_bcp_tcr GROUP BY 1,2,3 ORDER BY 1,2,3\")\n",
        "conn.execute(f\"CREATE OR REPLACE TABLE em_bcp_tc AS SELECT fecha AS fecha, {entity_name_case} AS entidad, upper(clasificacion) AS clasificacion, total FROM em_tmp_bcp_tcc ORDER BY fecha, codigo_entidad, clasificacion\")\n",
        "\n",
        "conn.execute(\"CREATE OR REPLACE TABLE em_tmp_bcp_eri AS SELECT * FROM em_tmp_bcp_erbi UNION ALL SELECT * FROM em_tmp_bcp_erfi\")\n",
        "conn.execute(f\"CREATE OR REPLACE TABLE em_tmp_bcp_err AS SELECT fecha, {entity_case} AS codigo_entidad, sub_rubro, codigo_moneda, importe, reporte FROM em_tmp_bcp_eri\")\n",
        "conn.execute(\"CREATE OR REPLACE TABLE em_tmp_bcp_erc_1 AS SELECT fecha, codigo_entidad, sub_rubro, COALESCE(SUM(importe),0) AS importe, reporte FROM em_tmp_bcp_err GROUP BY 1,2,3,4 ORDER BY 1,2,3,4\")\n",
        "conn.execute(f\"CREATE OR REPLACE TABLE em_tmp_bcp_erc AS SELECT fecha, {entity_name_case} AS entidad, sub_rubro, importe, reporte FROM em_tmp_bcp_erc_1 ORDER BY fecha, entidad, sub_rubro\")\n",
        "\n",
        "from pathlib import Path as _Path\n",
        "index_path = _Path('data/em_bcp_eerr_index.csv')\n",
        "if index_path.exists():\n",
        "    df_index = normalize_columns(pd.read_csv(index_path))\n",
        "    temp_idx = 'tmp_eerr_index'\n",
        "    conn.register(temp_idx, df_index)\n",
        "    conn.execute(f\"CREATE OR REPLACE TABLE em_bcp_eerr_index AS SELECT * FROM {temp_idx}\")\n",
        "    conn.unregister(temp_idx)\n",
        "else:\n",
        "    conn.execute(\"CREATE OR REPLACE TABLE IF NOT EXISTS em_bcp_eerr_index (sub_rubro_base TEXT, clasificacion TEXT, rubro TEXT, sub_rubro_reporte TEXT)\")\n",
        "    print('Aviso: no se encontro data/em_bcp_eerr_index.csv; columnas de clasificacion quedaran nulas.')\n",
        "\n",
        "conn.execute(\"CREATE OR REPLACE TABLE em_bcp_estado_resultados AS SELECT a.fecha, a.entidad, idx.clasificacion, idx.rubro, idx.sub_rubro_reporte, a.sub_rubro, a.reporte, a.importe FROM em_tmp_bcp_erc a LEFT JOIN em_bcp_eerr_index idx ON a.sub_rubro = idx.sub_rubro_base ORDER BY a.fecha, a.entidad, a.sub_rubro\")\n",
        "\n",
        "for table in ['em_tmp_bcp_csi', 'em_tmp_bcp_csr', 'em_tmp_bcp_csc', 'em_tmp_bcp_tci', 'em_tmp_bcp_tcr', 'em_tmp_bcp_tcc', 'em_tmp_bcp_eri', 'em_tmp_bcp_err', 'em_tmp_bcp_erc_1', 'em_tmp_bcp_erc']:\n",
        "    conn.execute(f\"DROP TABLE IF EXISTS {table}\")\n",
        "\n",
        "print('Tablas finales disponibles: em_bcp_credito_sector, em_bcp_tc, em_bcp_estado_resultados')\n"
      ]
    },
    {
      "cell_type": "markdown",
      "id": "8c4517e0",
      "metadata": {},
      "source": [
        "## 7. Tablas resultantes\n"
      ]
    },
    {
      "cell_type": "code",
      "execution_count": null,
      "id": "8bfbee62",
      "metadata": {},
      "outputs": [],
      "source": [
        "\n",
        "tables_info = []\n",
        "for table in ['em_bcp_credito_sector', 'em_bcp_tc', 'em_bcp_estado_resultados']:\n",
        "    info = conn.execute(f\"SELECT COUNT(*) AS filas, MIN(fecha) AS min_fecha, MAX(fecha) AS max_fecha FROM {table}\").df()\n",
        "    info.insert(0, 'tabla', table)\n",
        "    tables_info.append(info)\n",
        "display(pd.concat(tables_info, ignore_index=True))\n",
        "\n"
      ]
    },
    {
      "cell_type": "markdown",
      "id": "76487a5b",
      "metadata": {},
      "source": [
        "## 8. Analisis y graficos\n"
      ]
    },
    {
      "cell_type": "code",
      "execution_count": null,
      "id": "c864fb51",
      "metadata": {},
      "outputs": [],
      "source": [
        "\n",
        "import numpy as np\n",
        "import matplotlib.pyplot as plt\n",
        "from matplotlib.ticker import FuncFormatter\n",
        "from pathlib import Path\n",
        "\n",
        "OUT_DIR = Path('out')\n",
        "OUT_DIR.mkdir(exist_ok=True)\n",
        "\n",
        "def fmt_percent(ax):\n",
        "    ax.yaxis.set_major_formatter(FuncFormatter(lambda y, _: f'{y:.0%}'))\n",
        "\n",
        "def plot_lines(df, value_col, title, ylabel, filename):\n",
        "    if df.empty:\n",
        "        print(f'Sin datos para {title}')\n",
        "        return\n",
        "    banks = sorted(df['entidad'].unique())\n",
        "    colors = plt.colormaps['tab20'](np.linspace(0, 1, max(len(banks), 1)))\n",
        "    fig, ax = plt.subplots(figsize=(10, 6))\n",
        "    cutoff = df['mes'].max()\n",
        "    for color, (bank, group) in zip(colors, df.groupby('entidad')):\n",
        "        ax.plot(group['mes'], group[value_col], label=bank, color=color, linewidth=2)\n",
        "    ax.axvline(cutoff, color='gray', linestyle='--', linewidth=1, label=cutoff.strftime('%Y-%m'))\n",
        "    ax.set_title(title)\n",
        "    ax.set_xlabel('Mes')\n",
        "    ax.set_ylabel(ylabel)\n",
        "    if 'share' in value_col:\n",
        "        fmt_percent(ax)\n",
        "    ax.grid(True, axis='y', linestyle=':', linewidth=0.5)\n",
        "    ax.legend(bbox_to_anchor=(1.02, 1), loc='upper left', fontsize='small')\n",
        "    fig.autofmt_xdate(rotation=45)\n",
        "    fig.tight_layout()\n",
        "    path = OUT_DIR / filename\n",
        "    fig.savefig(path, dpi=150)\n",
        "    plt.show()\n",
        "    print(f'Figura guardada en {path}')\n",
        "\n",
        "def fetch_credito(producto):\n",
        "    sql = \"\"\"\n",
        "        SELECT date_trunc('month', fecha) AS mes, entidad, SUM(cartera_total) AS monto, SUM(cartera_vencida) AS vencida\n",
        "        FROM em_bcp_credito_sector\n",
        "        WHERE upper(actividad) = ?\n",
        "        GROUP BY 1,2\n",
        "        ORDER BY 1,2\n",
        "    \"\"\"\n",
        "    df = conn.execute(sql, [producto.upper()]).df()\n",
        "    if df.empty:\n",
        "        return df\n",
        "    df['share'] = df.groupby('mes')['monto'].transform(lambda x: x / x.sum())\n",
        "    df['morosidad'] = np.where(df['monto'] > 0, df['vencida'] / df['monto'], np.nan)\n",
        "    return df\n",
        "\n",
        "def plot_credito(producto, sufijo):\n",
        "    df = fetch_credito(producto)\n",
        "    if df.empty:\n",
        "        print(f'Sin datos para {producto}')\n",
        "        return\n",
        "    periodo = f\"{df['mes'].min():%b-%y} a {df['mes'].max():%b-%y}\"\n",
        "    plot_lines(df, 'share', f'Market share {producto.title()} ({periodo})', 'Participacion', f'share_{sufijo}.png')\n",
        "    plot_lines(df, 'morosidad', f'Morosidad {producto.title()} ({periodo})', 'Morosidad', f'morosidad_{sufijo}.png')\n",
        "\n",
        "productos = [\n",
        "    ('CONSUMO', 'consumo'),\n",
        "    ('VIVIENDA', 'vivienda'),\n",
        "    ('COMERCIO AL POR MENOR', 'comercio_menor'),\n",
        "    ('COMERCIO AL POR MAYOR', 'comercio_mayor'),\n",
        "]\n",
        "for producto, sufijo in productos:\n",
        "    plot_credito(producto, sufijo)\n",
        "\n",
        "def fetch_tarjeta(clasificacion):\n",
        "    sql = \"\"\"\n",
        "        SELECT date_trunc('month', fecha) AS mes, entidad, SUM(total) AS total\n",
        "        FROM em_bcp_tc\n",
        "        WHERE upper(clasificacion) = ?\n",
        "        GROUP BY 1,2\n",
        "        ORDER BY 1,2\n",
        "    \"\"\"\n",
        "    df = conn.execute(sql, [clasificacion.upper()]).df()\n",
        "    if df.empty:\n",
        "        return df\n",
        "    df['share'] = df.groupby('mes')['total'].transform(lambda x: x / x.sum())\n",
        "    return df\n",
        "\n",
        "for clasificacion, sufijo in [('SALDO', 'saldo'), ('CANTIDAD', 'cantidad')]:\n",
        "    df_tar = fetch_tarjeta(clasificacion)\n",
        "    if df_tar.empty:\n",
        "        print(f'Sin datos para tarjetas ({clasificacion})')\n",
        "        continue\n",
        "    periodo = f\"{df_tar['mes'].min():%b-%y} a {df_tar['mes'].max():%b-%y}\"\n",
        "    plot_lines(df_tar, 'share', f'Market share tarjetas - {clasificacion.title()} ({periodo})', 'Participacion', f'share_tarjetas_{sufijo}.png')\n",
        "\n",
        "conn.close()\n",
        "\n"
      ]
    }
  ],
  "metadata": {
    "kernelspec": {
      "display_name": "albertito",
      "language": "python",
      "name": "python3"
    },
    "language_info": {
      "codemirror_mode": {
        "name": "ipython",
        "version": 3
      },
      "file_extension": ".py",
      "mimetype": "text/x-python",
      "name": "python",
      "nbconvert_exporter": "python",
      "pygments_lexer": "ipython3",
      "version": "3.13.2"
    }
  },
  "nbformat": 4,
  "nbformat_minor": 5
}
